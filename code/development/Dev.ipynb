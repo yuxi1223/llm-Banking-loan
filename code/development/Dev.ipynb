{
 "cells": [
  {
   "cell_type": "markdown",
   "metadata": {},
   "source": [
    "# Connect whisper"
   ]
  },
  {
   "cell_type": "code",
   "execution_count": 109,
   "metadata": {},
   "outputs": [
    {
     "name": "stdout",
     "output_type": "stream",
     "text": [
      "Collecting openai-whisper\n",
      "  Downloading openai-whisper-20231117.tar.gz (798 kB)\n",
      "\u001b[2K     \u001b[90m━━━━━━━━━━━━━━━━━━━━━━━━━━━━━━━━━━━━━━━\u001b[0m \u001b[32m798.6/798.6 kB\u001b[0m \u001b[31m1.6 MB/s\u001b[0m eta \u001b[36m0:00:00\u001b[0ma \u001b[36m0:00:01\u001b[0m\n",
      "\u001b[?25h  Installing build dependencies ... \u001b[?25ldone\n",
      "\u001b[?25h  Getting requirements to build wheel ... \u001b[?25ldone\n",
      "\u001b[?25h  Preparing metadata (pyproject.toml) ... \u001b[?25ldone\n",
      "\u001b[?25hCollecting numba (from openai-whisper)\n",
      "  Obtaining dependency information for numba from https://files.pythonhosted.org/packages/9a/51/a4dc2c01ce7a850b8e56ff6d5381d047a5daea83d12bad08aa071d34b2ee/numba-0.60.0-cp311-cp311-macosx_11_0_arm64.whl.metadata\n",
      "  Downloading numba-0.60.0-cp311-cp311-macosx_11_0_arm64.whl.metadata (2.7 kB)\n",
      "Requirement already satisfied: numpy in ./loan-env/lib/python3.11/site-packages (from openai-whisper) (1.26.4)\n",
      "Collecting torch (from openai-whisper)\n",
      "  Obtaining dependency information for torch from https://files.pythonhosted.org/packages/d0/5f/f41b14a398d484bf218d5167ec9061c1e76f500d9e25166117818c8bacda/torch-2.3.1-cp311-none-macosx_11_0_arm64.whl.metadata\n",
      "  Downloading torch-2.3.1-cp311-none-macosx_11_0_arm64.whl.metadata (26 kB)\n",
      "Requirement already satisfied: tqdm in ./loan-env/lib/python3.11/site-packages (from openai-whisper) (4.66.4)\n",
      "Collecting more-itertools (from openai-whisper)\n",
      "  Obtaining dependency information for more-itertools from https://files.pythonhosted.org/packages/bb/23/2d1cdb0427aecb2b150dc2ac2d15400990c4f05585b3fbc1b5177d74d7fb/more_itertools-10.3.0-py3-none-any.whl.metadata\n",
      "  Downloading more_itertools-10.3.0-py3-none-any.whl.metadata (36 kB)\n",
      "Requirement already satisfied: tiktoken in ./loan-env/lib/python3.11/site-packages (from openai-whisper) (0.7.0)\n",
      "Collecting llvmlite<0.44,>=0.43.0dev0 (from numba->openai-whisper)\n",
      "  Obtaining dependency information for llvmlite<0.44,>=0.43.0dev0 from https://files.pythonhosted.org/packages/ee/e1/38deed89ced4cf378c61e232265cfe933ccde56ae83c901aa68b477d14b1/llvmlite-0.43.0-cp311-cp311-macosx_11_0_arm64.whl.metadata\n",
      "  Downloading llvmlite-0.43.0-cp311-cp311-macosx_11_0_arm64.whl.metadata (4.8 kB)\n",
      "Requirement already satisfied: regex>=2022.1.18 in ./loan-env/lib/python3.11/site-packages (from tiktoken->openai-whisper) (2024.5.15)\n",
      "Requirement already satisfied: requests>=2.26.0 in ./loan-env/lib/python3.11/site-packages (from tiktoken->openai-whisper) (2.32.3)\n",
      "Requirement already satisfied: filelock in ./loan-env/lib/python3.11/site-packages (from torch->openai-whisper) (3.15.3)\n",
      "Requirement already satisfied: typing-extensions>=4.8.0 in ./loan-env/lib/python3.11/site-packages (from torch->openai-whisper) (4.12.2)\n",
      "Collecting sympy (from torch->openai-whisper)\n",
      "  Obtaining dependency information for sympy from https://files.pythonhosted.org/packages/61/53/e18c8c97d0b2724d85c9830477e3ebea3acf1dcdc6deb344d5d9c93a9946/sympy-1.12.1-py3-none-any.whl.metadata\n",
      "  Downloading sympy-1.12.1-py3-none-any.whl.metadata (12 kB)\n",
      "Collecting networkx (from torch->openai-whisper)\n",
      "  Obtaining dependency information for networkx from https://files.pythonhosted.org/packages/38/e9/5f72929373e1a0e8d142a130f3f97e6ff920070f87f91c4e13e40e0fba5a/networkx-3.3-py3-none-any.whl.metadata\n",
      "  Downloading networkx-3.3-py3-none-any.whl.metadata (5.1 kB)\n",
      "Collecting jinja2 (from torch->openai-whisper)\n",
      "  Obtaining dependency information for jinja2 from https://files.pythonhosted.org/packages/31/80/3a54838c3fb461f6fec263ebf3a3a41771bd05190238de3486aae8540c36/jinja2-3.1.4-py3-none-any.whl.metadata\n",
      "  Downloading jinja2-3.1.4-py3-none-any.whl.metadata (2.6 kB)\n",
      "Requirement already satisfied: fsspec in ./loan-env/lib/python3.11/site-packages (from torch->openai-whisper) (2024.6.0)\n",
      "Requirement already satisfied: charset-normalizer<4,>=2 in ./loan-env/lib/python3.11/site-packages (from requests>=2.26.0->tiktoken->openai-whisper) (3.3.2)\n",
      "Requirement already satisfied: idna<4,>=2.5 in ./loan-env/lib/python3.11/site-packages (from requests>=2.26.0->tiktoken->openai-whisper) (3.7)\n",
      "Requirement already satisfied: urllib3<3,>=1.21.1 in ./loan-env/lib/python3.11/site-packages (from requests>=2.26.0->tiktoken->openai-whisper) (2.2.2)\n",
      "Requirement already satisfied: certifi>=2017.4.17 in ./loan-env/lib/python3.11/site-packages (from requests>=2.26.0->tiktoken->openai-whisper) (2024.6.2)\n",
      "Requirement already satisfied: MarkupSafe>=2.0 in ./loan-env/lib/python3.11/site-packages (from jinja2->torch->openai-whisper) (2.1.5)\n",
      "Collecting mpmath<1.4.0,>=1.1.0 (from sympy->torch->openai-whisper)\n",
      "  Obtaining dependency information for mpmath<1.4.0,>=1.1.0 from https://files.pythonhosted.org/packages/43/e3/7d92a15f894aa0c9c4b49b8ee9ac9850d6e63b03c9c32c0367a13ae62209/mpmath-1.3.0-py3-none-any.whl.metadata\n",
      "  Using cached mpmath-1.3.0-py3-none-any.whl.metadata (8.6 kB)\n",
      "Downloading more_itertools-10.3.0-py3-none-any.whl (59 kB)\n",
      "\u001b[2K   \u001b[90m━━━━━━━━━━━━━━━━━━━━━━━━━━━━━━━━━━━━━━━━\u001b[0m \u001b[32m59.2/59.2 kB\u001b[0m \u001b[31m1.2 MB/s\u001b[0m eta \u001b[36m0:00:00\u001b[0m-:--:--\u001b[0m\n",
      "\u001b[?25hDownloading numba-0.60.0-cp311-cp311-macosx_11_0_arm64.whl (2.6 MB)\n",
      "\u001b[2K   \u001b[90m━━━━━━━━━━━━━━━━━━━━━━━━━━━━━━━━━━━━━━━━\u001b[0m \u001b[32m2.6/2.6 MB\u001b[0m \u001b[31m3.0 MB/s\u001b[0m eta \u001b[36m0:00:00\u001b[0m00:01\u001b[0m00:01\u001b[0m\n",
      "\u001b[?25hDownloading torch-2.3.1-cp311-none-macosx_11_0_arm64.whl (61.0 MB)\n",
      "\u001b[2K   \u001b[90m━━━━━━━━━━━━━━━━━━━━━━━━━━━━━━━━━━━━━━━━\u001b[0m \u001b[32m61.0/61.0 MB\u001b[0m \u001b[31m2.7 MB/s\u001b[0m eta \u001b[36m0:00:00\u001b[0m00:01\u001b[0m00:01\u001b[0m\n",
      "\u001b[?25hDownloading llvmlite-0.43.0-cp311-cp311-macosx_11_0_arm64.whl (28.8 MB)\n",
      "\u001b[2K   \u001b[90m━━━━━━━━━━━━━━━━━━━━━━━━━━━━━━━━━━━━━━━━\u001b[0m \u001b[32m28.8/28.8 MB\u001b[0m \u001b[31m2.9 MB/s\u001b[0m eta \u001b[36m0:00:00\u001b[0m00:01\u001b[0m00:01\u001b[0m\n",
      "\u001b[?25hDownloading jinja2-3.1.4-py3-none-any.whl (133 kB)\n",
      "\u001b[2K   \u001b[90m━━━━━━━━━━━━━━━━━━━━━━━━━━━━━━━━━━━━━━━\u001b[0m \u001b[32m133.3/133.3 kB\u001b[0m \u001b[31m957.4 kB/s\u001b[0m eta \u001b[36m0:00:00\u001b[0m\u001b[36m0:00:01\u001b[0m\n",
      "\u001b[?25hDownloading networkx-3.3-py3-none-any.whl (1.7 MB)\n",
      "\u001b[2K   \u001b[90m━━━━━━━━━━━━━━━━━━━━━━━━━━━━━━━━━━━━━━━━\u001b[0m \u001b[32m1.7/1.7 MB\u001b[0m \u001b[31m2.1 MB/s\u001b[0m eta \u001b[36m0:00:00\u001b[0m00:01\u001b[0m00:01\u001b[0m\n",
      "\u001b[?25hDownloading sympy-1.12.1-py3-none-any.whl (5.7 MB)\n",
      "\u001b[2K   \u001b[90m━━━━━━━━━━━━━━━━━━━━━━━━━━━━━━━━━━━━━━━━\u001b[0m \u001b[32m5.7/5.7 MB\u001b[0m \u001b[31m3.1 MB/s\u001b[0m eta \u001b[36m0:00:00\u001b[0m00:01\u001b[0m00:01\u001b[0m\n",
      "\u001b[?25hUsing cached mpmath-1.3.0-py3-none-any.whl (536 kB)\n",
      "Building wheels for collected packages: openai-whisper\n",
      "  Building wheel for openai-whisper (pyproject.toml) ... \u001b[?25ldone\n",
      "\u001b[?25h  Created wheel for openai-whisper: filename=openai_whisper-20231117-py3-none-any.whl size=801345 sha256=5c27702999f7b290740dbf478ecefe54cff513caf0d7c126ee46cf9f7eb279b3\n",
      "  Stored in directory: /Users/yuxisu/Library/Caches/pip/wheels/55/5d/42/c296ab046d52caa0adc0e3f159e98f011b3994a022d6282105\n",
      "Successfully built openai-whisper\n",
      "Installing collected packages: mpmath, sympy, networkx, more-itertools, llvmlite, jinja2, torch, numba, openai-whisper\n",
      "Successfully installed jinja2-3.1.4 llvmlite-0.43.0 more-itertools-10.3.0 mpmath-1.3.0 networkx-3.3 numba-0.60.0 openai-whisper-20231117 sympy-1.12.1 torch-2.3.1\n",
      "\n",
      "\u001b[1m[\u001b[0m\u001b[34;49mnotice\u001b[0m\u001b[1;39;49m]\u001b[0m\u001b[39;49m A new release of pip is available: \u001b[0m\u001b[31;49m23.2.1\u001b[0m\u001b[39;49m -> \u001b[0m\u001b[32;49m24.0\u001b[0m\n",
      "\u001b[1m[\u001b[0m\u001b[34;49mnotice\u001b[0m\u001b[1;39;49m]\u001b[0m\u001b[39;49m To update, run: \u001b[0m\u001b[32;49mpip install --upgrade pip\u001b[0m\n",
      "Note: you may need to restart the kernel to use updated packages.\n"
     ]
    }
   ],
   "source": [
    "pip install -U obpenai-whisper"
   ]
  },
  {
   "cell_type": "code",
   "execution_count": 112,
   "metadata": {},
   "outputs": [],
   "source": [
    "import whisper"
   ]
  },
  {
   "cell_type": "code",
   "execution_count": 115,
   "metadata": {},
   "outputs": [],
   "source": [
    "ear =whisper.load_model(\"base\")"
   ]
  },
  {
   "cell_type": "code",
   "execution_count": 121,
   "metadata": {},
   "outputs": [
    {
     "name": "stderr",
     "output_type": "stream",
     "text": [
      "OMP: Info #276: omp_set_nested routine deprecated, please use omp_set_max_active_levels instead.\n"
     ]
    },
    {
     "name": "stdout",
     "output_type": "stream",
     "text": [
      "這邊要說衛上市上貴公司他們的股票的合定因為他們一開始出來的時候就會有資本額所以資本額有講是他們是10萬好了一個人就出資10萬然後在公司也只有一個人所以他們就會有自己去想說A比較社會我要推1000股那還1000股出上10萬就是沒股的命額然後通常我們的股就是股份的命額會是10塊所以他們都會用比如說家公司出來資本是10萬就會出上10就是他們的股數可是現在因為面而不一定所以股數其實是可以隨機定的然後就定出來之後會去重新進入他們的命額而已然後股數的合定是這邊那股數的就是擁有者的判定就是紀錄的人其實就是基保中心基保中心會去判定說這個股份是誰有的假設家公司它們的全部的股份有誰跟誰那確認完之後會去跟公司做重複的確認所以每年才會有股東名車股東名車會跟基保中心去做雙重的確認然後如果是交易的話因為小公司他們的交易比較就是不平凡可能就是10下的交易就是會上市的商會他們就是10下的交易他們基本上就是會牽一個10下的契約然後簽完之後會有律師去做合隊就是會很會寫的很詳細可能就是這股份真的是貴於誰然後他給他多少錢所以是有法律效益的然後這個股份最後他們就是會上市商會公司他們不會立刻去做更新因為他們畢竟也是比較小公司然後假設我好了我賣了10%股份給B那B又把10%然後我賣給C或D那我這個就是我家公司不就一直更新所以他們一年會更新也是股東名測去個人基保中心做的是合隊\n"
     ]
    }
   ],
   "source": [
    "\n",
    "customer_text = ear.transcribe(audio=\"/Users/yuxisu/Desktop/llm-Banking-loan/Data/股票核定和交易方式.m4a\",\n",
    "                                 word_timestamps=True,fp16=False,\n",
    "                                 )\n",
    "print(customer_text[\"text\"])"
   ]
  },
  {
   "cell_type": "code",
   "execution_count": 1,
   "metadata": {},
   "outputs": [
    {
     "name": "stdout",
     "output_type": "stream",
     "text": [
      "Collecting faster-whisper\n",
      "  Obtaining dependency information for faster-whisper from https://files.pythonhosted.org/packages/4e/77/3f7474863c99732edadcd5a7fc34ba5779b0bd71610ede65182fd2610323/faster_whisper-1.0.2-py3-none-any.whl.metadata\n",
      "  Downloading faster_whisper-1.0.2-py3-none-any.whl.metadata (15 kB)\n",
      "Collecting av<13,>=11.0 (from faster-whisper)\n",
      "  Obtaining dependency information for av<13,>=11.0 from https://files.pythonhosted.org/packages/03/b2/1c738f90da89270625f6326e50c776e8d7448144e8f995c852ae986bf2bd/av-12.1.0-cp311-cp311-macosx_11_0_arm64.whl.metadata\n",
      "  Downloading av-12.1.0-cp311-cp311-macosx_11_0_arm64.whl.metadata (4.6 kB)\n",
      "Collecting ctranslate2<5,>=4.0 (from faster-whisper)\n",
      "  Obtaining dependency information for ctranslate2<5,>=4.0 from https://files.pythonhosted.org/packages/40/c0/b4a5ccb767c2e9a536e22b4fd823dd83d85d4c705db9950eb60dadc6945c/ctranslate2-4.3.1-cp311-cp311-macosx_11_0_arm64.whl.metadata\n",
      "  Downloading ctranslate2-4.3.1-cp311-cp311-macosx_11_0_arm64.whl.metadata (10 kB)\n",
      "Requirement already satisfied: huggingface-hub>=0.13 in /Users/yuxisu/Desktop/Su/llm-Banking-loan/dev-env/lib/python3.11/site-packages (from faster-whisper) (0.23.4)\n",
      "Requirement already satisfied: tokenizers<1,>=0.13 in /Users/yuxisu/Desktop/Su/llm-Banking-loan/dev-env/lib/python3.11/site-packages (from faster-whisper) (0.19.1)\n",
      "Collecting onnxruntime<2,>=1.14 (from faster-whisper)\n",
      "  Obtaining dependency information for onnxruntime<2,>=1.14 from https://files.pythonhosted.org/packages/27/2e/f0e06bd668a1c85aa8084ec29c28793d1d755cf88e8ad82d75feeb3543f0/onnxruntime-1.18.0-cp311-cp311-macosx_11_0_universal2.whl.metadata\n",
      "  Downloading onnxruntime-1.18.0-cp311-cp311-macosx_11_0_universal2.whl.metadata (4.2 kB)\n",
      "Requirement already satisfied: setuptools in /Users/yuxisu/Desktop/Su/llm-Banking-loan/dev-env/lib/python3.11/site-packages (from ctranslate2<5,>=4.0->faster-whisper) (65.5.0)\n",
      "Requirement already satisfied: numpy in /Users/yuxisu/Desktop/Su/llm-Banking-loan/dev-env/lib/python3.11/site-packages (from ctranslate2<5,>=4.0->faster-whisper) (1.26.4)\n",
      "Requirement already satisfied: pyyaml<7,>=5.3 in /Users/yuxisu/Desktop/Su/llm-Banking-loan/dev-env/lib/python3.11/site-packages (from ctranslate2<5,>=4.0->faster-whisper) (6.0.1)\n",
      "Requirement already satisfied: filelock in /Users/yuxisu/Desktop/Su/llm-Banking-loan/dev-env/lib/python3.11/site-packages (from huggingface-hub>=0.13->faster-whisper) (3.15.3)\n",
      "Requirement already satisfied: fsspec>=2023.5.0 in /Users/yuxisu/Desktop/Su/llm-Banking-loan/dev-env/lib/python3.11/site-packages (from huggingface-hub>=0.13->faster-whisper) (2024.6.0)\n",
      "Requirement already satisfied: packaging>=20.9 in /Users/yuxisu/Desktop/Su/llm-Banking-loan/dev-env/lib/python3.11/site-packages (from huggingface-hub>=0.13->faster-whisper) (24.1)\n",
      "Requirement already satisfied: requests in /Users/yuxisu/Desktop/Su/llm-Banking-loan/dev-env/lib/python3.11/site-packages (from huggingface-hub>=0.13->faster-whisper) (2.32.3)\n",
      "Requirement already satisfied: tqdm>=4.42.1 in /Users/yuxisu/Desktop/Su/llm-Banking-loan/dev-env/lib/python3.11/site-packages (from huggingface-hub>=0.13->faster-whisper) (4.66.4)\n",
      "Requirement already satisfied: typing-extensions>=3.7.4.3 in /Users/yuxisu/Desktop/Su/llm-Banking-loan/dev-env/lib/python3.11/site-packages (from huggingface-hub>=0.13->faster-whisper) (4.12.2)\n",
      "Collecting coloredlogs (from onnxruntime<2,>=1.14->faster-whisper)\n",
      "  Obtaining dependency information for coloredlogs from https://files.pythonhosted.org/packages/a7/06/3d6badcf13db419e25b07041d9c7b4a2c331d3f4e7134445ec5df57714cd/coloredlogs-15.0.1-py2.py3-none-any.whl.metadata\n",
      "  Using cached coloredlogs-15.0.1-py2.py3-none-any.whl.metadata (12 kB)\n",
      "Requirement already satisfied: flatbuffers in /Users/yuxisu/Desktop/Su/llm-Banking-loan/dev-env/lib/python3.11/site-packages (from onnxruntime<2,>=1.14->faster-whisper) (24.3.25)\n",
      "Requirement already satisfied: protobuf in /Users/yuxisu/Desktop/Su/llm-Banking-loan/dev-env/lib/python3.11/site-packages (from onnxruntime<2,>=1.14->faster-whisper) (4.25.3)\n",
      "Requirement already satisfied: sympy in /Users/yuxisu/Desktop/Su/llm-Banking-loan/dev-env/lib/python3.11/site-packages (from onnxruntime<2,>=1.14->faster-whisper) (1.12.1)\n",
      "Collecting humanfriendly>=9.1 (from coloredlogs->onnxruntime<2,>=1.14->faster-whisper)\n",
      "  Obtaining dependency information for humanfriendly>=9.1 from https://files.pythonhosted.org/packages/f0/0f/310fb31e39e2d734ccaa2c0fb981ee41f7bd5056ce9bc29b2248bd569169/humanfriendly-10.0-py2.py3-none-any.whl.metadata\n",
      "  Using cached humanfriendly-10.0-py2.py3-none-any.whl.metadata (9.2 kB)\n",
      "Requirement already satisfied: charset-normalizer<4,>=2 in /Users/yuxisu/Desktop/Su/llm-Banking-loan/dev-env/lib/python3.11/site-packages (from requests->huggingface-hub>=0.13->faster-whisper) (3.3.2)\n",
      "Requirement already satisfied: idna<4,>=2.5 in /Users/yuxisu/Desktop/Su/llm-Banking-loan/dev-env/lib/python3.11/site-packages (from requests->huggingface-hub>=0.13->faster-whisper) (3.7)\n",
      "Requirement already satisfied: urllib3<3,>=1.21.1 in /Users/yuxisu/Desktop/Su/llm-Banking-loan/dev-env/lib/python3.11/site-packages (from requests->huggingface-hub>=0.13->faster-whisper) (2.2.2)\n",
      "Requirement already satisfied: certifi>=2017.4.17 in /Users/yuxisu/Desktop/Su/llm-Banking-loan/dev-env/lib/python3.11/site-packages (from requests->huggingface-hub>=0.13->faster-whisper) (2024.6.2)\n",
      "Requirement already satisfied: mpmath<1.4.0,>=1.1.0 in /Users/yuxisu/Desktop/Su/llm-Banking-loan/dev-env/lib/python3.11/site-packages (from sympy->onnxruntime<2,>=1.14->faster-whisper) (1.3.0)\n",
      "Downloading faster_whisper-1.0.2-py3-none-any.whl (1.5 MB)\n",
      "\u001b[2K   \u001b[90m━━━━━━━━━━━━━━━━━━━━━━━━━━━━━━━━━━━━━━━━\u001b[0m \u001b[32m1.5/1.5 MB\u001b[0m \u001b[31m1.3 MB/s\u001b[0m eta \u001b[36m0:00:00\u001b[0m00:01\u001b[0m00:01\u001b[0m0m\n",
      "\u001b[?25hDownloading av-12.1.0-cp311-cp311-macosx_11_0_arm64.whl (20.9 MB)\n",
      "\u001b[2K   \u001b[90m━━━━━━━━━━━━━━━━━━━━━━━━━━━━━━━━━━━━━━━━\u001b[0m \u001b[32m20.9/20.9 MB\u001b[0m \u001b[31m7.1 MB/s\u001b[0m eta \u001b[36m0:00:00\u001b[0m00:01\u001b[0m00:01\u001b[0m\n",
      "\u001b[?25hDownloading ctranslate2-4.3.1-cp311-cp311-macosx_11_0_arm64.whl (1.3 MB)\n",
      "\u001b[2K   \u001b[90m━━━━━━━━━━━━━━━━━━━━━━━━━━━━━━━━━━━━━━━━\u001b[0m \u001b[32m1.3/1.3 MB\u001b[0m \u001b[31m3.8 MB/s\u001b[0m eta \u001b[36m0:00:00\u001b[0ma \u001b[36m0:00:01\u001b[0m\n",
      "\u001b[?25hDownloading onnxruntime-1.18.0-cp311-cp311-macosx_11_0_universal2.whl (15.9 MB)\n",
      "\u001b[2K   \u001b[90m━━━━━━━━━━━━━━━━━━━━━━━━━━━━━━━━━━━━━━━━\u001b[0m \u001b[32m15.9/15.9 MB\u001b[0m \u001b[31m7.6 MB/s\u001b[0m eta \u001b[36m0:00:00\u001b[0m00:01\u001b[0m00:01\u001b[0m\n",
      "\u001b[?25hUsing cached coloredlogs-15.0.1-py2.py3-none-any.whl (46 kB)\n",
      "Using cached humanfriendly-10.0-py2.py3-none-any.whl (86 kB)\n",
      "Installing collected packages: humanfriendly, ctranslate2, av, coloredlogs, onnxruntime, faster-whisper\n",
      "Successfully installed av-12.1.0 coloredlogs-15.0.1 ctranslate2-4.3.1 faster-whisper-1.0.2 humanfriendly-10.0 onnxruntime-1.18.0\n",
      "\n",
      "\u001b[1m[\u001b[0m\u001b[34;49mnotice\u001b[0m\u001b[1;39;49m]\u001b[0m\u001b[39;49m A new release of pip is available: \u001b[0m\u001b[31;49m23.2.1\u001b[0m\u001b[39;49m -> \u001b[0m\u001b[32;49m24.1\u001b[0m\n",
      "\u001b[1m[\u001b[0m\u001b[34;49mnotice\u001b[0m\u001b[1;39;49m]\u001b[0m\u001b[39;49m To update, run: \u001b[0m\u001b[32;49mpip install --upgrade pip\u001b[0m\n",
      "Note: you may need to restart the kernel to use updated packages.\n"
     ]
    }
   ],
   "source": [
    "pip install faster-whisper"
   ]
  },
  {
   "cell_type": "code",
   "execution_count": 2,
   "metadata": {},
   "outputs": [
    {
     "name": "stderr",
     "output_type": "stream",
     "text": [
      "/Users/yuxisu/Desktop/Su/llm-Banking-loan/dev-env/lib/python3.11/site-packages/tqdm/auto.py:21: TqdmWarning: IProgress not found. Please update jupyter and ipywidgets. See https://ipywidgets.readthedocs.io/en/stable/user_install.html\n",
      "  from .autonotebook import tqdm as notebook_tqdm\n"
     ]
    }
   ],
   "source": [
    "from faster_whisper import WhisperModel"
   ]
  },
  {
   "cell_type": "code",
   "execution_count": 17,
   "metadata": {},
   "outputs": [],
   "source": [
    "model_size = \"distil-large-v3\""
   ]
  },
  {
   "cell_type": "code",
   "execution_count": 18,
   "metadata": {},
   "outputs": [],
   "source": [
    "model = WhisperModel(model_size, device=\"cuda\", compute_type=\"float16\")"
   ]
  },
  {
   "cell_type": "code",
   "execution_count": null,
   "metadata": {},
   "outputs": [],
   "source": [
    "segments, _ = model.transcribe(\"/Users/yuxisu/Desktop/Su/llm-Banking-loan/loan_data/audio/sfwoy-ky3qe.mp3\")\n",
    "segments = list(segments)  # The transcription will actually run here."
   ]
  },
  {
   "cell_type": "markdown",
   "metadata": {},
   "source": [
    "# Connect llm"
   ]
  },
  {
   "cell_type": "code",
   "execution_count": 102,
   "metadata": {},
   "outputs": [],
   "source": [
    "import os\n",
    "from dotenv import load_dotenv\n",
    "load_dotenv()\n",
    "\n",
    "os.environ[\"OPENAI_API_KEY\"] = os.getenv(\"OPENAI-KEY\")\n",
    "os.environ[\"OPENAI_ORGANIZATION\"] = os.getenv(\"OPENAI_ORGANIZATION\")\n"
   ]
  },
  {
   "cell_type": "markdown",
   "metadata": {},
   "source": [
    "## by openai"
   ]
  },
  {
   "cell_type": "code",
   "execution_count": 56,
   "metadata": {},
   "outputs": [
    {
     "name": "stdout",
     "output_type": "stream",
     "text": [
      "Requirement already satisfied: openai in ./loan-env/lib/python3.11/site-packages (1.35.1)\n",
      "Requirement already satisfied: anyio<5,>=3.5.0 in ./loan-env/lib/python3.11/site-packages (from openai) (4.4.0)\n",
      "Requirement already satisfied: distro<2,>=1.7.0 in ./loan-env/lib/python3.11/site-packages (from openai) (1.9.0)\n",
      "Requirement already satisfied: httpx<1,>=0.23.0 in ./loan-env/lib/python3.11/site-packages (from openai) (0.27.0)\n",
      "Requirement already satisfied: pydantic<3,>=1.9.0 in ./loan-env/lib/python3.11/site-packages (from openai) (2.7.4)\n",
      "Requirement already satisfied: sniffio in ./loan-env/lib/python3.11/site-packages (from openai) (1.3.1)\n",
      "Requirement already satisfied: tqdm>4 in ./loan-env/lib/python3.11/site-packages (from openai) (4.66.4)\n",
      "Requirement already satisfied: typing-extensions<5,>=4.7 in ./loan-env/lib/python3.11/site-packages (from openai) (4.12.2)\n",
      "Requirement already satisfied: idna>=2.8 in ./loan-env/lib/python3.11/site-packages (from anyio<5,>=3.5.0->openai) (3.7)\n",
      "Requirement already satisfied: certifi in ./loan-env/lib/python3.11/site-packages (from httpx<1,>=0.23.0->openai) (2024.6.2)\n",
      "Requirement already satisfied: httpcore==1.* in ./loan-env/lib/python3.11/site-packages (from httpx<1,>=0.23.0->openai) (1.0.5)\n",
      "Requirement already satisfied: h11<0.15,>=0.13 in ./loan-env/lib/python3.11/site-packages (from httpcore==1.*->httpx<1,>=0.23.0->openai) (0.14.0)\n",
      "Requirement already satisfied: annotated-types>=0.4.0 in ./loan-env/lib/python3.11/site-packages (from pydantic<3,>=1.9.0->openai) (0.7.0)\n",
      "Requirement already satisfied: pydantic-core==2.18.4 in ./loan-env/lib/python3.11/site-packages (from pydantic<3,>=1.9.0->openai) (2.18.4)\n",
      "\n",
      "\u001b[1m[\u001b[0m\u001b[34;49mnotice\u001b[0m\u001b[1;39;49m]\u001b[0m\u001b[39;49m A new release of pip is available: \u001b[0m\u001b[31;49m23.2.1\u001b[0m\u001b[39;49m -> \u001b[0m\u001b[32;49m24.0\u001b[0m\n",
      "\u001b[1m[\u001b[0m\u001b[34;49mnotice\u001b[0m\u001b[1;39;49m]\u001b[0m\u001b[39;49m To update, run: \u001b[0m\u001b[32;49mpip install --upgrade pip\u001b[0m\n",
      "Note: you may need to restart the kernel to use updated packages.\n"
     ]
    }
   ],
   "source": [
    "pip install openai"
   ]
  },
  {
   "cell_type": "code",
   "execution_count": 12,
   "metadata": {},
   "outputs": [
    {
     "name": "stdout",
     "output_type": "stream",
     "text": [
      "Requirement already satisfied: python-dotenv in ./loan-env/lib/python3.11/site-packages (1.0.1)\n",
      "\n",
      "\u001b[1m[\u001b[0m\u001b[34;49mnotice\u001b[0m\u001b[1;39;49m]\u001b[0m\u001b[39;49m A new release of pip is available: \u001b[0m\u001b[31;49m23.2.1\u001b[0m\u001b[39;49m -> \u001b[0m\u001b[32;49m24.0\u001b[0m\n",
      "\u001b[1m[\u001b[0m\u001b[34;49mnotice\u001b[0m\u001b[1;39;49m]\u001b[0m\u001b[39;49m To update, run: \u001b[0m\u001b[32;49mpip install --upgrade pip\u001b[0m\n",
      "Note: you may need to restart the kernel to use updated packages.\n"
     ]
    }
   ],
   "source": [
    "pip install python-dotenv"
   ]
  },
  {
   "cell_type": "code",
   "execution_count": 62,
   "metadata": {},
   "outputs": [],
   "source": [
    "from openai import OpenAI\n",
    "client = OpenAI(\n",
    "    api_key=os.environ[\"OPENAI_API_KEY\"],\n",
    "    organization=os.environ[\"OPENAI_ORGANIZATION\"],\n",
    "    project=os.getenv(\"PROJECT_ID\")\n",
    "    \n",
    "    \n",
    ")\n",
    "\n",
    "response = client.chat.completions.create(\n",
    "  model=os.getenv(\"LLM_MODEL\"),\n",
    "  messages=[\n",
    "    {\"role\": \"system\", \"content\": \"You are a poetic assistant, skilled in explaining complex programming concepts with creative flair.\"},\n",
    "    {\"role\": \"user\", \"content\": \"Compose a poem that explains the concept of recursion in programming.\"}\n",
    "  ],\n",
    "  temperature=0,\n",
    "  max_tokens=4084,\n",
    "  \n",
    ")"
   ]
  },
  {
   "cell_type": "code",
   "execution_count": 63,
   "metadata": {},
   "outputs": [
    {
     "data": {
      "text/plain": [
       "ChatCompletion(id='chatcmpl-9dAO9qczAT9zlJBJWfuQCG2RFTf8N', choices=[Choice(finish_reason='stop', index=0, logprobs=None, message=ChatCompletionMessage(content=\"In the realm of code, where logic takes flight,\\nThere lies a concept, both wondrous and bright.\\nRecursion it's called, a loop with a twist,\\nA dance of self-reference, a programmer's tryst.\\n\\nImagine a function, a magical spell,\\nThat calls itself, oh what a tale to tell!\\nLike a mirror reflecting its own reflection,\\nRecursion dives deep, with no hesitation.\\n\\nWith each recursive call, a problem is split,\\nInto smaller pieces, bit by bit.\\nLike a Russian doll, nested within,\\nRecursion unravels, revealing its kin.\\n\\nA base case is needed, a stopping point,\\nTo break the cycle, to end the joint.\\nFor without this anchor, the loop would persist,\\nForever repeating, a never-ending twist.\\n\\nThrough stacks and frames, the program does trace,\\nEach recursive call, leaving its trace.\\nBut fear not, dear coder, for memory's embrace,\\nWill keep track of each step, in its rightful place.\\n\\nFibonacci numbers, a classic example,\\nWhere recursion shines, like a star in the ample.\\nEach number is found, by adding the two before,\\nA recursive dance, forevermore.\\n\\nBut beware, dear programmer, for recursion can deceive,\\nWith infinite loops, it's easy to believe,\\nThat a function will end, when it never will,\\nA bug in the code, a programmer's ill.\\n\\nSo tread with caution, in this recursive realm,\\nWhere elegance and power overwhelm.\\nFor recursion, my friend, is a double-edged sword,\\nA tool to be wielded, with wisdom and accord.\\n\\nSo embrace the beauty, the magic it brings,\\nIn the world of programming, where logic sings.\\nRecursion, a concept, both simple and grand,\\nA poetic dance, in the coder's hand.\", role='assistant', function_call=None, tool_calls=None))], created=1719121753, model='gpt-3.5-turbo-16k-0613', object='chat.completion', service_tier=None, system_fingerprint=None, usage=CompletionUsage(completion_tokens=361, prompt_tokens=39, total_tokens=400))"
      ]
     },
     "execution_count": 63,
     "metadata": {},
     "output_type": "execute_result"
    }
   ],
   "source": [
    "response "
   ]
  },
  {
   "cell_type": "markdown",
   "metadata": {},
   "source": [
    "## by langchain"
   ]
  },
  {
   "cell_type": "code",
   "execution_count": 103,
   "metadata": {},
   "outputs": [],
   "source": [
    "from langchain_core.prompts import PromptTemplate\n",
    "from langchain_openai import ChatOpenAI"
   ]
  },
  {
   "cell_type": "code",
   "execution_count": 93,
   "metadata": {},
   "outputs": [],
   "source": [
    "template = \"\"\"Question: {question}\n",
    "\n",
    "# Answer rule\n",
    "    - Let's think step by step.\n",
    "    - You are a summary bot, helping bank loan officers with summarization tasks.\n",
    "    - respond using Traditional Chinese (Taiwan), and do not use English.\n",
    "\"\"\"\n",
    "\n",
    "prompt = PromptTemplate.from_template(template)"
   ]
  },
  {
   "cell_type": "code",
   "execution_count": 104,
   "metadata": {},
   "outputs": [],
   "source": [
    "llm = ChatOpenAI(openai_api_key=os.environ[\"OPENAI_API_KEY\"], \n",
    "             openai_organization=os.environ[\"OPENAI_ORGANIZATION\"],\n",
    "             model=os.getenv(\"LLM_MODEL\"),\n",
    "             temperature=0\n",
    "             )"
   ]
  },
  {
   "cell_type": "code",
   "execution_count": 106,
   "metadata": {},
   "outputs": [],
   "source": [
    "llm_chain = prompt | llm"
   ]
  },
  {
   "cell_type": "code",
   "execution_count": 107,
   "metadata": {},
   "outputs": [
    {
     "name": "stdout",
     "output_type": "stream",
     "text": [
      "content='我是一個摘要機器人，幫助銀行貸款專員進行摘要任務。' response_metadata={'token_usage': {'completion_tokens': 39, 'prompt_tokens': 61, 'total_tokens': 100}, 'model_name': 'gpt-3.5-turbo-16k-0613', 'system_fingerprint': None, 'finish_reason': 'stop', 'logprobs': None} id='run-1d2015ba-a8e8-48eb-8d6f-fae3fb04df30-0' usage_metadata={'input_tokens': 61, 'output_tokens': 39, 'total_tokens': 100}\n"
     ]
    }
   ],
   "source": [
    "question = \"你是誰？\"\n",
    "\n",
    "print(llm_chain.invoke(question))"
   ]
  },
  {
   "cell_type": "markdown",
   "metadata": {},
   "source": [
    "## web crawler"
   ]
  },
  {
   "cell_type": "code",
   "execution_count": null,
   "metadata": {},
   "outputs": [
    {
     "ename": "",
     "evalue": "",
     "output_type": "error",
     "traceback": [
      "\u001b[1;31mFailed to start the Kernel. \n",
      "\u001b[1;31mUnable to start Kernel 'dev-env (Python 3.11.7)' due to a timeout waiting for the ports to get used. \n",
      "\u001b[1;31mView Jupyter <a href='command:jupyter.viewOutput'>log</a> for further details."
     ]
    }
   ],
   "source": [
    "import requests\n",
    "from bs4 import BeautifulSoup\n",
    "\n",
    "# 目標公司名稱，例如 '台積電'\n",
    "company_name = '台積電'\n",
    "# 目標 Yahoo 新聞 URL（可以根據需要調整）\n",
    "url = f'https://tw.news.search.yahoo.com/search?p={company_name}'\n",
    "\n",
    "# 發送 HTTP 請求\n",
    "response = requests.get(url)\n",
    "\n",
    "# 確認請求是否成功\n",
    "if response.status_code == 200:\n",
    "    # 解析 HTML\n",
    "    soup = BeautifulSoup(response.text, 'html.parser')\n",
    "    \n",
    "    # 找到所有新聞標題的標籤（根據 Yahoo 新聞網頁結構）\n",
    "    articles = soup.find_all('h3', {'class': 'title'})\n",
    "    \n",
    "    # 儲存最近的四則新聞標題與連結\n",
    "    news_list = []\n",
    "    for article in articles[:4]:\n",
    "        title = article.text\n",
    "        link = article.find('a')['href']\n",
    "        news_list.append({'title': title, 'link': link})\n",
    "    \n",
    "    # 列出最近的四則新聞標題與連結\n",
    "    for news in news_list:\n",
    "        print(f\"Title: {news['title']}\")\n",
    "        print(f\"Link: {news['link']}\")\n",
    "        print()\n",
    "else:\n",
    "    print(f\"Failed to retrieve Yahoo News. Status code: {response.status_code}\")\n"
   ]
  }
 ],
 "metadata": {
  "kernelspec": {
   "display_name": "loan-env",
   "language": "python",
   "name": "python3"
  },
  "language_info": {
   "codemirror_mode": {
    "name": "ipython",
    "version": 3
   },
   "file_extension": ".py",
   "mimetype": "text/x-python",
   "name": "python",
   "nbconvert_exporter": "python",
   "pygments_lexer": "ipython3",
   "version": "3.11.9"
  }
 },
 "nbformat": 4,
 "nbformat_minor": 2
}
